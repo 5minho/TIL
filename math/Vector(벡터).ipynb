{
 "cells": [
  {
   "cell_type": "markdown",
   "metadata": {},
   "source": [
    "### 벡터\n",
    "\n",
    "* 벡터 : (내가 보기에는)일렬로 늘여 놓은 숫자, 1차원 배열, (실제 의미)어떤 공간안의 점이나 화살표"
   ]
  },
  {
   "cell_type": "code",
   "execution_count": 12,
   "metadata": {},
   "outputs": [
    {
     "data": {
      "text/plain": [
       "(3,)"
      ]
     },
     "execution_count": 12,
     "metadata": {},
     "output_type": "execute_result"
    }
   ],
   "source": [
    "import numpy as np\n",
    "\n",
    "v1 = np.array([2, 5]) # 성분이 2개인 벡터\n",
    "np.shape(v1) # (2,)\n",
    "v2 = np.array([1, 2, 3]) # 성분이 3개인 벡터\n",
    "np.shape(v2) # (3,)\n",
    "np.shape(v2.T) # (3,) 똑같다?! -> numpy 에서 1차원벡터는 모두 종벡터로 간주한다고 한다.\n"
   ]
  },
  {
   "cell_type": "markdown",
   "metadata": {},
   "source": [
    "#### 벡터의 덧셈과 정수배"
   ]
  },
  {
   "cell_type": "code",
   "execution_count": 13,
   "metadata": {
    "scrolled": true
   },
   "outputs": [
    {
     "data": {
      "text/plain": [
       "array([5, 7, 9])"
      ]
     },
     "execution_count": 13,
     "metadata": {},
     "output_type": "execute_result"
    }
   ],
   "source": [
    "v1 = np.array([1,2,3])\n",
    "v2 = np.array([4,5,6])\n",
    "v1 + v2 # array([5, 7, 9])"
   ]
  },
  {
   "cell_type": "code",
   "execution_count": 18,
   "metadata": {},
   "outputs": [
    {
     "data": {
      "text/plain": [
       "array([12, 15, 18])"
      ]
     },
     "execution_count": 18,
     "metadata": {},
     "output_type": "execute_result"
    }
   ],
   "source": [
    "2 * v1 # array([2, 4, 6])\n",
    "3 * v2 # array([12, 15, 18])"
   ]
  },
  {
   "cell_type": "markdown",
   "metadata": {},
   "source": [
    "성분수가 다른 벡터끼리 덧셈하면?"
   ]
  },
  {
   "cell_type": "code",
   "execution_count": 19,
   "metadata": {},
   "outputs": [
    {
     "ename": "ValueError",
     "evalue": "operands could not be broadcast together with shapes (4,) (3,) ",
     "output_type": "error",
     "traceback": [
      "\u001b[0;31m---------------------------------------------------------------------------\u001b[0m",
      "\u001b[0;31mValueError\u001b[0m                                Traceback (most recent call last)",
      "\u001b[0;32m<ipython-input-19-4b9015feb3e2>\u001b[0m in \u001b[0;36m<module>\u001b[0;34m()\u001b[0m\n\u001b[1;32m      1\u001b[0m \u001b[0mv1\u001b[0m \u001b[0;34m=\u001b[0m \u001b[0mnp\u001b[0m\u001b[0;34m.\u001b[0m\u001b[0marray\u001b[0m\u001b[0;34m(\u001b[0m\u001b[0;34m[\u001b[0m\u001b[0;36m1\u001b[0m\u001b[0;34m,\u001b[0m\u001b[0;36m2\u001b[0m\u001b[0;34m,\u001b[0m\u001b[0;36m3\u001b[0m\u001b[0;34m,\u001b[0m\u001b[0;36m4\u001b[0m\u001b[0;34m]\u001b[0m\u001b[0;34m)\u001b[0m\u001b[0;34m\u001b[0m\u001b[0m\n\u001b[1;32m      2\u001b[0m \u001b[0mv2\u001b[0m \u001b[0;34m=\u001b[0m \u001b[0mnp\u001b[0m\u001b[0;34m.\u001b[0m\u001b[0marray\u001b[0m\u001b[0;34m(\u001b[0m\u001b[0;34m[\u001b[0m\u001b[0;36m5\u001b[0m\u001b[0;34m,\u001b[0m\u001b[0;36m6\u001b[0m\u001b[0;34m,\u001b[0m\u001b[0;36m7\u001b[0m\u001b[0;34m]\u001b[0m\u001b[0;34m)\u001b[0m\u001b[0;34m\u001b[0m\u001b[0m\n\u001b[0;32m----> 3\u001b[0;31m \u001b[0mv1\u001b[0m \u001b[0;34m+\u001b[0m \u001b[0mv2\u001b[0m\u001b[0;34m\u001b[0m\u001b[0m\n\u001b[0m",
      "\u001b[0;31mValueError\u001b[0m: operands could not be broadcast together with shapes (4,) (3,) "
     ]
    }
   ],
   "source": [
    "v1 = np.array([1,2,3,4])\n",
    "v2 = np.array([5,6,7])\n",
    "v1 + v2 # ValueError: operands could not be broadcast together with shapes (4,) (3,)"
   ]
  },
  {
   "cell_type": "markdown",
   "metadata": {},
   "source": [
    "왜 덧셈(뺄셈), 정수배는 있는데, 곱하기는 없을까?\n",
    "\n",
    "> 현재 좌표계에터 v1 + v2 = v3 이라고 하자, 그리고 이 벡터들을 다른 좌표계에서 표현해봤더니 v1 -> x1, v2 -> x2, v3 -> x3 로 변했다고 하자.\n",
    "좌표계가 변했어도 x1 + x2 = x3 는 성립한다. (정수배도 마찬가지) 그러나 v1 * v2 = v3 인 좌표계를 다른 좌표계로 이동 했을때 x1 * x2 ≠ x3 이다.\n",
    "책에서는 벡터끼리 곱셈 v1 * v2 는 대상 '그 자체의 성질'이 아닌, '특정 좌표계에서 외관에 관한 성질'에 불과하다고 설명한다."
   ]
  },
  {
   "cell_type": "markdown",
   "metadata": {},
   "source": [
    "### 벡터의 interface \n",
    "\n",
    "1. (cc’)***x*** = c(c’***x***) # 곱셉의 결합법칙 만족"
   ]
  },
  {
   "cell_type": "code",
   "execution_count": 26,
   "metadata": {},
   "outputs": [
    {
     "data": {
      "text/plain": [
       "True"
      ]
     },
     "execution_count": 26,
     "metadata": {},
     "output_type": "execute_result"
    }
   ],
   "source": [
    "x = np.array([1,2,3])\n",
    "c = 2\n",
    "_c = 3\n",
    "np.array_equal((c*_c)*x, c*(_c*x)) # True"
   ]
  },
  {
   "cell_type": "markdown",
   "metadata": {},
   "source": [
    "2. ***x*** = ***x*** # 곱셈에 대한 항등원 1"
   ]
  },
  {
   "cell_type": "code",
   "execution_count": 27,
   "metadata": {},
   "outputs": [
    {
     "data": {
      "text/plain": [
       "True"
      ]
     },
     "execution_count": 27,
     "metadata": {},
     "output_type": "execute_result"
    }
   ],
   "source": [
    "np.array_equal(1 * x, x) # True"
   ]
  },
  {
   "cell_type": "markdown",
   "metadata": {},
   "source": [
    "3. ***x*** + ***y*** = ***y*** + ***x*** # 덧셈 교환법칙 만족"
   ]
  },
  {
   "cell_type": "code",
   "execution_count": 28,
   "metadata": {},
   "outputs": [
    {
     "data": {
      "text/plain": [
       "True"
      ]
     },
     "execution_count": 28,
     "metadata": {},
     "output_type": "execute_result"
    }
   ],
   "source": [
    "y = np.array([4,5,6])\n",
    "np.array_equal(x + y, y + x) # True"
   ]
  },
  {
   "cell_type": "markdown",
   "metadata": {},
   "source": [
    "4. ***x*** + ***y*** + ***z*** = ***x*** + ***y*** + ***z*** # 덧셈 결합법칙 만족"
   ]
  },
  {
   "cell_type": "code",
   "execution_count": 29,
   "metadata": {},
   "outputs": [
    {
     "data": {
      "text/plain": [
       "True"
      ]
     },
     "execution_count": 29,
     "metadata": {},
     "output_type": "execute_result"
    }
   ],
   "source": [
    "z = np.array([7, 8, 9])\n",
    "np.array_equal((x + y) + z, x + (y + z)) # True"
   ]
  },
  {
   "cell_type": "markdown",
   "metadata": {},
   "source": [
    "5. ***x*** + ***0*** = ***x*** # 덧셈에 대한 항등원 0"
   ]
  },
  {
   "cell_type": "code",
   "execution_count": 31,
   "metadata": {},
   "outputs": [
    {
     "data": {
      "text/plain": [
       "True"
      ]
     },
     "execution_count": 31,
     "metadata": {},
     "output_type": "execute_result"
    }
   ],
   "source": [
    "o = np.zeros_like(x)\n",
    "np.array_equal(x + o, x) # True"
   ]
  },
  {
   "cell_type": "markdown",
   "metadata": {},
   "source": [
    "6. ***x*** + ***-x*** = ***0*** # 뭐라고 표현해야 할까????"
   ]
  },
  {
   "cell_type": "code",
   "execution_count": 32,
   "metadata": {},
   "outputs": [
    {
     "data": {
      "text/plain": [
       "True"
      ]
     },
     "execution_count": 32,
     "metadata": {},
     "output_type": "execute_result"
    }
   ],
   "source": [
    "np.array_equal(x + -x, o) # True"
   ]
  },
  {
   "cell_type": "markdown",
   "metadata": {},
   "source": [
    "7. c(***x*** + ***y***) = c***x*** + c***y*** # 분배 법칙 성립"
   ]
  },
  {
   "cell_type": "code",
   "execution_count": 37,
   "metadata": {},
   "outputs": [
    {
     "data": {
      "text/plain": [
       "True"
      ]
     },
     "execution_count": 37,
     "metadata": {},
     "output_type": "execute_result"
    }
   ],
   "source": [
    "np.array_equal(c*(x + y), c*x + c*y) # True"
   ]
  },
  {
   "cell_type": "markdown",
   "metadata": {},
   "source": [
    "8. (c + c’)***x*** = c***x*** + c’***x***  # 분배 법칙 성립"
   ]
  },
  {
   "cell_type": "code",
   "execution_count": 39,
   "metadata": {},
   "outputs": [
    {
     "data": {
      "text/plain": [
       "True"
      ]
     },
     "execution_count": 39,
     "metadata": {},
     "output_type": "execute_result"
    }
   ],
   "source": [
    "np.array_equal((c + _c) * x, c*x + _c*x) # True"
   ]
  },
  {
   "cell_type": "markdown",
   "metadata": {},
   "source": [
    "> 위의 나열된것을 벡터의 성질이다. 대상을 모르는 무언가가 이 성질을 만족한다면, 그 대상에는 기존 벡터에 관련된 정리들을 모두 적용할 수 있다.\n",
    "> 마치 프로그래밍에서 인터페이스에 정의된 메서드들을 구현하는 클래스를 만든다면, 그 클래스는 인터페이스에 관련된 작업들을 적용할 수 있는것과 비슷하다. "
   ]
  },
  {
   "cell_type": "markdown",
   "metadata": {},
   "source": [
    "### 기저?! 차원?!\n",
    "\n",
    "#### 기저\n",
    "\n",
    "어떤 공간에, 원점과, 어떤 벡터가 하나가 있다. 그리고 이 공간에서는 벡터들의 덧셈과 정수배만 정의되어 있다고 하자.\n",
    "나는 이 점을 어떻게 가르킬 수 있을까????\n",
    "1. 기준이 되는 벡터를 정의하자 (***e1***, ***e2*** , .... ,***en***)\n",
    "2. 이 기준이 되는 벡터들에 정수배를 해서 더 해보자 예를 들어서 ***e1*** 방향으로 3보 전진하고, ***e2*** 방향으로 2보 전진했더니 내가 가르킬 벡터가 있었다. 그렇다면 나는 이 벡터는 3***e1*** + 2***e2***라는 표현으로 가르킬 수 있다.\n",
    "\n",
    "여기서, 만약 ***e1***, ***e2***를 가지고 내가 가르킬 벡터를 가르키는 표현이 하나 밖에 없다면, ***e1***, ***e2*** 를 기저라고 하고, 기저벡터라 부른다.\n",
    "\n",
    "좀 유식하게 말하면 벡터 (***e1***, ***e2*** , .... ,***en***)의 선형결합으로 임의의 벡터 ***X***가 나타나고, 그 표현법이 유일하다면 (***e1***, ***e2*** , .... ,***en***) 을 기저라고 부른다.\n",
    "\n",
    "#### 차원\n",
    "\n",
    "차원은 기저 벡터의 개수로 정의한다."
   ]
  }
 ],
 "metadata": {
  "kernelspec": {
   "display_name": "Python 3",
   "language": "python",
   "name": "python3"
  },
  "language_info": {
   "codemirror_mode": {
    "name": "ipython",
    "version": 3
   },
   "file_extension": ".py",
   "mimetype": "text/x-python",
   "name": "python",
   "nbconvert_exporter": "python",
   "pygments_lexer": "ipython3",
   "version": "3.6.5"
  }
 },
 "nbformat": 4,
 "nbformat_minor": 2
}
