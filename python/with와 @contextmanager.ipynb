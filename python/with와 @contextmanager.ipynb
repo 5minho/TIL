{
 "cells": [
  {
   "cell_type": "markdown",
   "metadata": {},
   "source": [
    "#### with 문????\n",
    "\n",
    "파이썬의 with 문은 코드를 특별한 컨텍스트에서 실행함을 나타낸다.\n",
    "예를들면 어떤 코드를 lock을 사용하여 잠금이 설정되어 있는 동안만 실행하고 싶다면?"
   ]
  },
  {
   "cell_type": "code",
   "execution_count": 4,
   "metadata": {},
   "outputs": [
    {
     "name": "stdout",
     "output_type": "stream",
     "text": [
      "Lock is held\n"
     ]
    }
   ],
   "source": [
    "from threading import Lock\n",
    "\n",
    "lock = Lock()\n",
    "with lock:\n",
    "    print('Lock is held')"
   ]
  },
  {
   "cell_type": "markdown",
   "metadata": {},
   "source": [
    "위의 코드는 Lock 클래스가 with 문을 제대로 지원하는 덕분이다. 위의 코드를 try / catch 문을 사용해서 표현하면"
   ]
  },
  {
   "cell_type": "code",
   "execution_count": 5,
   "metadata": {},
   "outputs": [
    {
     "name": "stdout",
     "output_type": "stream",
     "text": [
      "Lock is held\n"
     ]
    }
   ],
   "source": [
    "lock.acquire()\n",
    "try:\n",
    "    print('Lock is held')\n",
    "finally:\n",
    "    lock.release()"
   ]
  },
  {
   "cell_type": "raw",
   "metadata": {},
   "source": [
    "가 된다. 내장모듈 contextlib를 사용하면 객체와 함수를 with 문에 사용할 수 있게 만들기 쉽다."
   ]
  },
  {
   "cell_type": "markdown",
   "metadata": {},
   "source": [
    "특정 코드 영역에 저 많은 디버깅 로그를 넣고 싶다고 가정하자."
   ]
  },
  {
   "cell_type": "code",
   "execution_count": 8,
   "metadata": {},
   "outputs": [
    {
     "name": "stderr",
     "output_type": "stream",
     "text": [
      "ERROR:root:Error log here\n"
     ]
    }
   ],
   "source": [
    "import logging\n",
    "\n",
    "def my_function():\n",
    "    logging.debug('Some debug data')\n",
    "    logging.error('Error log here')\n",
    "    logging.debug('More debug data')\n",
    "\n",
    "my_function()"
   ]
  },
  {
   "cell_type": "markdown",
   "metadata": {},
   "source": [
    "이 프로그램의 기본 로그 수준은 WARNING 이기 때문에. debug 메시지를 출력되지 않고 error 메시지만 출력한다.\n",
    "\n",
    "컨텍스트 매니저를 정의해서 이 함수의 로그 수준을 임시로 높일 수 있다.\n",
    "with 블록에서 코드를 실행하기 전에 로그 심각성 수준을 높이고 실행 후에는 다시 낮춘다."
   ]
  },
  {
   "cell_type": "code",
   "execution_count": 13,
   "metadata": {},
   "outputs": [],
   "source": [
    "from contextlib import contextmanager\n",
    "\n",
    "@contextmanager\n",
    "def debug_logging(level):\n",
    "    logger = logging.getLogger()\n",
    "    old_level = logger.getEffectiveLevel()\n",
    "    logger.setLevel(level)\n",
    "    try:\n",
    "        yield\n",
    "    finally:\n",
    "        logger.setLevel(old_level)"
   ]
  },
  {
   "cell_type": "markdown",
   "metadata": {},
   "source": [
    "yield 표현식은 with 블록의 내용이 실행되는 지점이다."
   ]
  },
  {
   "cell_type": "code",
   "execution_count": 14,
   "metadata": {},
   "outputs": [
    {
     "name": "stderr",
     "output_type": "stream",
     "text": [
      "DEBUG:root:Some debug data\n",
      "ERROR:root:Error log here\n",
      "DEBUG:root:More debug data\n",
      "ERROR:root:Error log here\n"
     ]
    },
    {
     "name": "stdout",
     "output_type": "stream",
     "text": [
      "yield\n",
      "Inside:\n",
      "After:\n"
     ]
    }
   ],
   "source": [
    "with debug_logging(logging.DEBUG):\n",
    "    print('Inside:')\n",
    "    my_function()\n",
    "print('After:')\n",
    "my_function()"
   ]
  },
  {
   "cell_type": "markdown",
   "metadata": {},
   "source": [
    "이제 같은 호깅 함수를 debug_logging 컨텍스트 에서 호출하면, 디버그 메시지까지 모두 출력된다. 같은 함수를 with 블록 외부에서 실행하면 디버깅 메시지가 출력되지 않는다."
   ]
  },
  {
   "cell_type": "markdown",
   "metadata": {},
   "source": [
    "### with 타깃 사용하기 (as)\n",
    "\n",
    "with 문에 전달되는 컨텍스트 매니저에서 객체를 반환할 수도 있다. 이 객체는 as 부분에 있는 지역 변수에 할당된다. 이 기능을 이용하면 with 블록 안에 있는 코드에서 직접 컨텍스트와 상호작용할 수 있다."
   ]
  },
  {
   "cell_type": "code",
   "execution_count": 20,
   "metadata": {},
   "outputs": [],
   "source": [
    "@contextmanager\n",
    "def my_open(file, mode, close_handler):\n",
    "    try:\n",
    "        f = open(file, mode)\n",
    "        yield f\n",
    "    finally:\n",
    "        close_handler()\n",
    "        f.close()"
   ]
  },
  {
   "cell_type": "code",
   "execution_count": 21,
   "metadata": {},
   "outputs": [
    {
     "name": "stdout",
     "output_type": "stream",
     "text": [
      "file close\n"
     ]
    }
   ],
   "source": [
    "def close_handler():\n",
    "    print('file close')\n",
    "\n",
    "with my_open('abc', 'r', close_handler) as f:\n",
    "    b = f.read()"
   ]
  },
  {
   "cell_type": "markdown",
   "metadata": {},
   "source": [
    "file 핸들러가 닫히기 전에 어떤 함수를 실행하고 싶을때, 위와 같이 컨텍스트 매니저를 이용하면 가능하다"
   ]
  },
  {
   "cell_type": "code",
   "execution_count": 22,
   "metadata": {},
   "outputs": [],
   "source": [
    "@contextmanager\n",
    "def log_level(level, name):\n",
    "    logger = logging.getLogger(name)\n",
    "    old_level = logger.getEffectiveLevel()\n",
    "    logger.setLevel(level)\n",
    "    try:\n",
    "        yield logger\n",
    "    finally:\n",
    "        logger.setLevel(old_level)"
   ]
  },
  {
   "cell_type": "markdown",
   "metadata": {},
   "source": [
    "기본 logger의 심각성 수준은 WARNING 이므로 loggin 모듈을 직적 사용하면 아무것도 출력되지 않지만, contextmanager를 이용해 할당받은 logger는 디버그 메시지도 출력이 된다. "
   ]
  },
  {
   "cell_type": "code",
   "execution_count": 23,
   "metadata": {},
   "outputs": [
    {
     "name": "stderr",
     "output_type": "stream",
     "text": [
      "DEBUG:my-log:This is my message\n"
     ]
    }
   ],
   "source": [
    "with log_level(logging.DEBUG, 'my-log') as logger:\n",
    "    logger.debug('This is my message')\n",
    "    logging.debug('This will not print')"
   ]
  },
  {
   "cell_type": "markdown",
   "metadata": {},
   "source": [
    "with 문이 종료한 후에 my-log 로거를 이용해 로그 메시지를 출력해보면, 로깅 심각성 수준이 WARNING 으로 돌아가서 디버그메시지는 출력되지 않는다."
   ]
  },
  {
   "cell_type": "code",
   "execution_count": 24,
   "metadata": {},
   "outputs": [
    {
     "name": "stderr",
     "output_type": "stream",
     "text": [
      "ERROR:my-log:Error will print\n"
     ]
    }
   ],
   "source": [
    "logger = logging.getLogger('my-log')\n",
    "logger.debug('Debug will not print')\n",
    "logger.error('Error will print')"
   ]
  }
 ],
 "metadata": {
  "kernelspec": {
   "display_name": "Python 3",
   "language": "python",
   "name": "python3"
  },
  "language_info": {
   "codemirror_mode": {
    "name": "ipython",
    "version": 3
   },
   "file_extension": ".py",
   "mimetype": "text/x-python",
   "name": "python",
   "nbconvert_exporter": "python",
   "pygments_lexer": "ipython3",
   "version": "3.6.5"
  }
 },
 "nbformat": 4,
 "nbformat_minor": 2
}
