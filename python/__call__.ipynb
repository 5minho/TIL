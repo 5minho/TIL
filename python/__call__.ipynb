{
 "cells": [
  {
   "cell_type": "markdown",
   "metadata": {},
   "source": [
    "#### 인터페이스가 간단하면 클래스 대신 함수를 받자!!!\n",
    "\n",
    "파이썬은 일급 함수를 갖추었기 때문에 함수를 매개변수로 전달하고 참조할 수 있다.\n",
    "\n",
    "예를들어 defaultdict 클래스를 사용자화 한다고 하면\n"
   ]
  },
  {
   "cell_type": "code",
   "execution_count": 7,
   "metadata": {},
   "outputs": [
    {
     "name": "stdout",
     "output_type": "stream",
     "text": [
      "Before:  {'green': 12, 'blue': 3}\n",
      "key added\n",
      "key added\n",
      "After:  {'green': 12, 'blue': 20, 'red': 5, 'orange': 9}\n"
     ]
    }
   ],
   "source": [
    "from collections import defaultdict\n",
    "\n",
    "def log_missing():\n",
    "    print('key added')\n",
    "    return 0\n",
    "\n",
    "current = {'green': 12, 'blue': 3}\n",
    "increments = [\n",
    "    ('red', 5),\n",
    "    ('blue', 17),\n",
    "    ('orange', 9),\n",
    "]\n",
    "\n",
    "result = defaultdict(log_missing, current)\n",
    "print('Before: ', dict(result))\n",
    "for key, amount in increments:\n",
    "    result[key] += amount\n",
    "print('After: ', dict(result))"
   ]
  },
  {
   "cell_type": "markdown",
   "metadata": {},
   "source": [
    "_log_missing_ 같은 함수를 넘기면 결정 동작과 부작용을 분리하므로 API를 쉽게 구축하고 테스트할 수 있다.\n",
    "예를 들어 기본값 후크를 defaultdict에 넘겨서 찾을 수 없는 키의 총 개수를 센다고 해보자.\n",
    "\n",
    "첫번째 방법은 상태 보존 클로저를 사용하는 것 이다."
   ]
  },
  {
   "cell_type": "code",
   "execution_count": 10,
   "metadata": {},
   "outputs": [],
   "source": [
    "def increment_with_report(current, increments):\n",
    "    added_count = 0\n",
    "    \n",
    "    def missing():\n",
    "        nonlocal added_count # 상태 보존 클로저\n",
    "        added_count += 1\n",
    "        return 0\n",
    "    \n",
    "    result = defaultdict(missing, current)\n",
    "    for key, amount in increments:\n",
    "        result[key] += amount\n",
    "        \n",
    "    return result, added_count"
   ]
  },
  {
   "cell_type": "code",
   "execution_count": 13,
   "metadata": {},
   "outputs": [],
   "source": [
    "result, count = increment_with_report(current, increments)\n",
    "assert count == 2"
   ]
  },
  {
   "cell_type": "markdown",
   "metadata": {},
   "source": [
    "nonlocal 키워드를 사용해서 클로저를 정의하여 문제를 해결하는것 보다 더 좋은 방법은\n",
    "보존할 상태를 캡슐화하는 작은 클래스를 정의하는 것이다."
   ]
  },
  {
   "cell_type": "code",
   "execution_count": 14,
   "metadata": {},
   "outputs": [],
   "source": [
    "class CountMissing(object):\n",
    "    def __init__(self):\n",
    "        self.added = 0\n",
    "    \n",
    "    def missing(self):\n",
    "        self.added += 1\n",
    "        return 0"
   ]
  },
  {
   "cell_type": "markdown",
   "metadata": {},
   "source": [
    "다른 언어에서 라면 CountMissing의 인터페이스를 수용하도록 defaultdict를 수정해야 한다고 생각하겠지만,\n",
    "파이썬에서는 일급 함수 덕분에 객체로 CountMissing.missing 메서드를 직접 참조해서\n",
    "defaultdict의 기본값 후크로 넘길 수 있다."
   ]
  },
  {
   "cell_type": "code",
   "execution_count": 16,
   "metadata": {},
   "outputs": [],
   "source": [
    "counter = CountMissing()\n",
    "result = defaultdict(counter.missing, current)\n",
    "\n",
    "for key, amount in increments:\n",
    "    result[key] += amount\n",
    "assert counter.added == 2"
   ]
  },
  {
   "cell_type": "markdown",
   "metadata": {},
   "source": [
    "_increment_with_report_ 함수를 사용한 방법보다 명확하지만,\n",
    "defaultdict 와 연계해서 사용한 예를 보기전 까지는 CountMissing 클래스 자체만으로 클래스 사용 용도가 무엇인지 이해하기 어렵다는 단점이 있다.\n",
    "누가 CounterMissing 객체를 생성하고, 언제 missing 메서드를 호출하는지 모른다.\n",
    "파이썬에서는 클래스에 `__call__` 이라는 특별한 메서드를 정의해서 이런 상황을 명확하게 할 수 있다\n"
   ]
  },
  {
   "cell_type": "code",
   "execution_count": 20,
   "metadata": {},
   "outputs": [],
   "source": [
    "class BetterCountMissing(object):\n",
    "    def __init__(self):\n",
    "        self.added = 0\n",
    "    \n",
    "    def __call__(self):\n",
    "        self.added += 1\n",
    "        return 0"
   ]
  },
  {
   "cell_type": "code",
   "execution_count": 21,
   "metadata": {},
   "outputs": [],
   "source": [
    "counter = BetterCountMissing()\n",
    "counter()\n",
    "assert callable(counter)"
   ]
  },
  {
   "cell_type": "code",
   "execution_count": 27,
   "metadata": {},
   "outputs": [],
   "source": [
    "counter = BetterCountMissing()\n",
    "result = defaultdict(counter, current)\n",
    "for key, amount in increments:\n",
    "    result[key] += amount\n",
    "assert counter.added == 2"
   ]
  },
  {
   "cell_type": "markdown",
   "metadata": {},
   "source": [
    "위의 예제가 다음의 이유들로 CountMissing.missing 예제보다 명확하다.\n",
    "1. `__call__` 메서드는 함수 인수를 사용하기 적합한 위치에 클래스의 인스턴스를 사요할 수 있다는 사실을 말해준다.\n",
    "2. 이 코드를 처음 보는 사람을 클래스의 주요 동작을 책임지는 진입점으로 안내하는 역할도 한다.\n",
    "3. 클래스의 목적이 상태 보존 클로저로 동작하는 것이라는 강력한 힌트를 제공핟나.\n",
    "4. `__call__` 을 사용할 때 defaultdict는 여전히 무슨 일이 일어나는지 모른다.\n",
    "   defaultdicr에 필요한 건 기본값 후크용 함수뿐이다."
   ]
  }
 ],
 "metadata": {
  "kernelspec": {
   "display_name": "Python 3",
   "language": "python",
   "name": "python3"
  },
  "language_info": {
   "codemirror_mode": {
    "name": "ipython",
    "version": 3
   },
   "file_extension": ".py",
   "mimetype": "text/x-python",
   "name": "python",
   "nbconvert_exporter": "python",
   "pygments_lexer": "ipython3",
   "version": "3.6.5"
  }
 },
 "nbformat": 4,
 "nbformat_minor": 2
}
