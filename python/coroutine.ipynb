{
 "cells": [
  {
   "cell_type": "markdown",
   "metadata": {},
   "source": [
    "> 코루틴을 이용하면 파이썬 프로그램에서 스레드를 여러개 생성 하지 않고, 동시에 많은 함수를 실행하는 것처럼 보이게 할 수 있다.\n",
    "> 코루틴은 제너레이트롤 소비하는 코드에서 send 함수를 사용하여 역으로 제너레이터 함수의 각 yield 표현식에 값을 보낼 수 있게 하는 방법으로 동작한다."
   ]
  },
  {
   "cell_type": "code",
   "execution_count": 29,
   "metadata": {},
   "outputs": [],
   "source": [
    "def my_coroutine():\n",
    "    \n",
    "    while True:\n",
    "        received = yield\n",
    "        print('Received: ', received)\n",
    "        \n",
    "it = my_coroutine()\n",
    "next(it)"
   ]
  },
  {
   "cell_type": "code",
   "execution_count": 30,
   "metadata": {},
   "outputs": [
    {
     "name": "stdout",
     "output_type": "stream",
     "text": [
      "Received:  10\n",
      "Received:  20\n"
     ]
    }
   ],
   "source": [
    "it.send(10)\n",
    "it.send(20)"
   ]
  },
  {
   "cell_type": "code",
   "execution_count": 88,
   "metadata": {},
   "outputs": [],
   "source": [
    "from collections import namedtuple\n",
    "\n",
    "Query = namedtuple('Query', ('y', 'x'))\n",
    "Transition = namedtuple('Transition', ('y', 'x', 'state'))"
   ]
  },
  {
   "cell_type": "code",
   "execution_count": 89,
   "metadata": {},
   "outputs": [],
   "source": [
    "ALIVE = '*'\n",
    "EMPTY = '-'\n",
    "\n",
    "def count_neighbors(y, x):\n",
    "    n_ = yield Query(y + 1, x + 0)\n",
    "    ne = yield Query(y + 1, x + 1)\n",
    "    e_ = yield Query(y, x + 1)\n",
    "    se = yield Query(y - 1, x + 1)\n",
    "    s_ = yield Query(y - 1, x)\n",
    "    sw = yield Query(y - 1, x - 1)\n",
    "    w_ = yield Query(y, x - 1)\n",
    "    nw = yield Query(y + 1, x - 1)\n",
    "    \n",
    "    neighbor_states = [n_, ne, e_, se, s_, sw, w_, nw]\n",
    "    count = 0\n",
    "    for state in neighbor_states:\n",
    "        if state == ALIVE:\n",
    "            count += 1\n",
    "    return count"
   ]
  },
  {
   "cell_type": "code",
   "execution_count": 90,
   "metadata": {},
   "outputs": [],
   "source": [
    "def game_logic(state, neighbors):\n",
    "    if state == ALIVE:\n",
    "        if neighbors < 2:\n",
    "            return EMPTY\n",
    "        elif neighbors > 3:\n",
    "            return EMPTY\n",
    "    else:\n",
    "        if neighbors == 3:\n",
    "            return ALIVE\n",
    "    return state"
   ]
  },
  {
   "cell_type": "code",
   "execution_count": 91,
   "metadata": {},
   "outputs": [],
   "source": [
    "def step_cell(y, x):\n",
    "    state = yield Query(y, x)\n",
    "    neighbors = yield from count_neighbors(y, x)\n",
    "    next_state = game_logic(state, neighbors)\n",
    "    yield Transition(y, x, next_state)"
   ]
  },
  {
   "cell_type": "code",
   "execution_count": 92,
   "metadata": {},
   "outputs": [],
   "source": [
    "TICK = object()\n",
    "def simulate(height, width):\n",
    "    while True:\n",
    "        for y in range(height):\n",
    "            for x in range(width):\n",
    "                yield from step_cell(y, x)\n",
    "        yield TICK"
   ]
  },
  {
   "cell_type": "code",
   "execution_count": 93,
   "metadata": {},
   "outputs": [],
   "source": [
    "class Grid(object):\n",
    "    def __init__(self, height, width):\n",
    "        self.height = height\n",
    "        self.width = width\n",
    "        self.rows = []\n",
    "        for _ in range(self.height):\n",
    "            self.rows.append([EMPTY] * self.width)\n",
    "    \n",
    "    def __str__(self):\n",
    "        return '\\n'.join([''.join(row) for row in self.rows])\n",
    "    \n",
    "    def query(self, y, x):\n",
    "        return self.rows[y % self.height][x % self.width]\n",
    "    \n",
    "    def assign(self, y, x, state):\n",
    "        self.rows[y % self.height][x % self.width] = state"
   ]
  },
  {
   "cell_type": "code",
   "execution_count": 97,
   "metadata": {},
   "outputs": [],
   "source": [
    "def live_a_generation(grid, sim):\n",
    "    progeny = Grid(grid.height, grid.width)\n",
    "    item = next(sim)\n",
    "    while item is not TICK:\n",
    "        if isinstance(item, Query):\n",
    "            state = grid.query(item.y, item.x)\n",
    "            item = sim.send(state)\n",
    "        else:\n",
    "            progeny.assign(item.y, item.x, item.state)\n",
    "            item = next(sim)\n",
    "    return progeny\n"
   ]
  },
  {
   "cell_type": "code",
   "execution_count": 98,
   "metadata": {},
   "outputs": [],
   "source": [
    "class ColumnPrinter(object):\n",
    "    def __init__(self):\n",
    "        self.columns = []\n",
    "    \n",
    "    def append(self, data):\n",
    "        self.columns.append(data)\n",
    "    \n",
    "    def __str__(self):\n",
    "        row_count = 1\n",
    "        for data in self.columns:\n",
    "            row_count = max(row_count, len(data.splitlines()) + 1)\n",
    "        rows = [''] * row_count\n",
    "        for j in range(row_count):\n",
    "            for i, data in enumerate(self.columns):\n",
    "                line = data.splitlines()[max(0, j - 1)]\n",
    "                if j == 0:\n",
    "                    padding = ' ' * (len(line) // 2)\n",
    "                    rows[j] += padding + str(i) + padding\n",
    "                else:\n",
    "                    rows[j] += line\n",
    "                if (i + 1) < len(self.columns):\n",
    "                    rows[j] += '|'\n",
    "        return '\\n'.join(rows)"
   ]
  },
  {
   "cell_type": "code",
   "execution_count": 100,
   "metadata": {},
   "outputs": [
    {
     "name": "stdout",
     "output_type": "stream",
     "text": [
      "    0    |    1    |    2    |    3    |    4    |    5    |    6    |    7    |    8    |    9    \n",
      "---*-----|---------|---------|---------|---------|---------|---------|---------|---------|-----*---\n",
      "----*----|--*-*----|----*----|---*-----|----*----|---------|---------|---------|---------|---------\n",
      "--***----|---**----|--*-*----|----**---|-----*---|---*-*---|-----*---|----*----|-----*---|---------\n",
      "---------|---*-----|---**----|---**----|---***---|----**---|---*-*---|-----**--|------*--|----*-*--\n",
      "---------|---------|---------|---------|---------|----*----|----**---|----**---|----***--|-----**--\n"
     ]
    }
   ],
   "source": [
    "grid = Grid(5, 9)\n",
    "grid.assign(0, 3, ALIVE)\n",
    "grid.assign(1, 4, ALIVE)\n",
    "grid.assign(2, 2, ALIVE)\n",
    "grid.assign(2, 3, ALIVE)\n",
    "grid.assign(2, 4, ALIVE)\n",
    "\n",
    "columns = ColumnPrinter()\n",
    "sim  = simulate(grid.height, grid.width)\n",
    "for i in range(5):\n",
    "    columns.append(str(grid))\n",
    "    grid = live_a_generation(grid, sim)\n",
    "\n",
    "print(columns)"
   ]
  },
  {
   "cell_type": "code",
   "execution_count": null,
   "metadata": {},
   "outputs": [],
   "source": []
  }
 ],
 "metadata": {
  "kernelspec": {
   "display_name": "Python 3",
   "language": "python",
   "name": "python3"
  },
  "language_info": {
   "codemirror_mode": {
    "name": "ipython",
    "version": 3
   },
   "file_extension": ".py",
   "mimetype": "text/x-python",
   "name": "python",
   "nbconvert_exporter": "python",
   "pygments_lexer": "ipython3",
   "version": "3.6.5"
  }
 },
 "nbformat": 4,
 "nbformat_minor": 2
}
