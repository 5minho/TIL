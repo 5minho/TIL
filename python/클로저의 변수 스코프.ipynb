{
 "cells": [
  {
   "cell_type": "code",
   "execution_count": 19,
   "metadata": {},
   "outputs": [],
   "source": [
    "def sort_priority(numbers, group):\n",
    "    found = False\n",
    "    def helper(x):\n",
    "        if x in group:\n",
    "            found = True\n",
    "            return (0, x)\n",
    "        else:\n",
    "            return (1, x)\n",
    "    numbers.sort(key=helper)\n",
    "    return found"
   ]
  },
  {
   "cell_type": "markdown",
   "metadata": {},
   "source": [
    "sort_priority(numbers, group) 함수는 group 에 있는 숫자들의 우선순위를 높혀서 정렬하는 숫자이다.\n",
    "\n",
    "만약 numbers 에서 group 에 있는 숫자를 발견하면 found = True 로 변경하고 우선순위를 높이기 위한 튜플을 반환한다."
   ]
  },
  {
   "cell_type": "code",
   "execution_count": 20,
   "metadata": {},
   "outputs": [
    {
     "name": "stdout",
     "output_type": "stream",
     "text": [
      "[5, 7, 7, 2, 3, 4]\n",
      "False\n"
     ]
    }
   ],
   "source": [
    "numbers = [4, 5, 2, 7, 3, 7]\n",
    "group = [5, 7]\n",
    "found = sort_priority(numbers, group)\n",
    "print(numbers)\n",
    "print(found)"
   ]
  },
  {
   "cell_type": "markdown",
   "metadata": {},
   "source": [
    "위의 결과를 보면 정렬은 잘되었지만 기대했던 found 값인 True가 반환되지 않고 False 를 반환했다.\n",
    "\n",
    "이유는 클로저의 스코프 탐색 때문이다.\n",
    "\n",
    "파이썬 인터프리터는 다음의 순서로 변수가 정의되어 있는 스코프를 탐색한다.\n",
    "\n",
    "1. 현재 함수의 스코프\n",
    "2. 현재 스코프를 감싸고 있는 스코프\n",
    "3. 코드를 포함하고 있는 모듈으 스코프 (전역 스코프)\n",
    "4. 내장 스코프 (len, str 같은 함수를 담고 있는 스코프)\n",
    "\n",
    "파이썬은 변수가 현재 스코프에 존재하지 않으면 새 변수를 정의한다.\n",
    "이 변수의 스코프는 이 변수를 할당한 함수 스코프이다.\n",
    "\n",
    "```python\n",
    "def sort_priority(numbers, group):\n",
    "    found = False # sort_priority 스코프\n",
    "    def helper(x):\n",
    "        found = True\n",
    "        if x in group:\n",
    "            found = True  # helper 의 스코프\n",
    "            return (0, x)\n",
    "        else:\n",
    "            return (1, x)\n",
    "    numbers.sort(key=helper)\n",
    "    return found\n",
    "```\n",
    "\n",
    "helper 함수 안에\n",
    "\n",
    "```python\n",
    "found = True\n",
    "```\n",
    "\n",
    "라인은 False 인 found 변수의 값을 True 로 변경하는 것이 아닌, 새로운 found 변수를 생성하는 것이다."
   ]
  },
  {
   "cell_type": "markdown",
   "metadata": {},
   "source": [
    "nonlocal 키워드를 사용하면 클로저에서 데이터를 얻어올수 있다.\n",
    "nonlocal '변수이름' 문법을 사용하면 '변수이름' 에 할당할 때 스코프 탐색이 일어나야 함을 나타낸다."
   ]
  },
  {
   "cell_type": "code",
   "execution_count": 21,
   "metadata": {},
   "outputs": [],
   "source": [
    "def sort_priority(numbers, group):\n",
    "    found = False\n",
    "    def helper(x):\n",
    "        nonlocal found\n",
    "        if x in group:\n",
    "            found = True\n",
    "            return (0, x)\n",
    "        else:\n",
    "            return (1, x)\n",
    "    numbers.sort(key=helper)\n",
    "    return found"
   ]
  },
  {
   "cell_type": "code",
   "execution_count": 22,
   "metadata": {},
   "outputs": [
    {
     "name": "stdout",
     "output_type": "stream",
     "text": [
      "[5, 7, 7, 2, 3, 4]\n",
      "True\n"
     ]
    }
   ],
   "source": [
    "numbers = [4, 5, 2, 7, 3, 7]\n",
    "group = [5, 7]\n",
    "found = sort_priority(numbers, group)\n",
    "print(numbers)\n",
    "print(found)"
   ]
  },
  {
   "cell_type": "markdown",
   "metadata": {},
   "source": [
    "하지만 전역 변수를 안티패턴과 마찬가지로 nonlocal 키워드는 간단한 함수 이외에 사용하지 않도록 주의해야 한다.\n",
    "\n",
    "위의 문제는 __call__ 라는 특별한 메서드를 사용하면 해결할 수 있다."
   ]
  },
  {
   "cell_type": "code",
   "execution_count": 24,
   "metadata": {},
   "outputs": [
    {
     "name": "stdout",
     "output_type": "stream",
     "text": [
      "[5, 7, 7, 2, 3, 4]\n",
      "True\n"
     ]
    }
   ],
   "source": [
    "class Sorter(object):\n",
    "    def __init__(self, group):\n",
    "        self.group = group\n",
    "        self.found = False\n",
    "        \n",
    "    def __call__(self, x):\n",
    "        if x in self.group:\n",
    "            self.found = True\n",
    "            return (0, x)\n",
    "        else:\n",
    "            return (1, x)\n",
    "        \n",
    "numbers = [4, 5, 2, 7, 3, 7]\n",
    "group = [5, 7]\n",
    "\n",
    "sorter = Sorter(group)\n",
    "numbers.sort(key=sorter)\n",
    "found = sorter.found\n",
    "print(numbers)\n",
    "print(found)"
   ]
  },
  {
   "cell_type": "markdown",
   "metadata": {},
   "source": [
    "파이썬2 에서는 nonlocal 키워드를 지원하지 않는다."
   ]
  },
  {
   "cell_type": "code",
   "execution_count": 25,
   "metadata": {},
   "outputs": [
    {
     "name": "stdout",
     "output_type": "stream",
     "text": [
      "[5, 7, 7, 2, 3, 4]\n",
      "True\n"
     ]
    }
   ],
   "source": [
    "def sort_priority(numbers, group):\n",
    "    found = [False]\n",
    "    def helper(x):\n",
    "        if x in group:\n",
    "            found[0] = True\n",
    "            return (0, x)\n",
    "        else:\n",
    "            return (1, x)\n",
    "    numbers.sort(key=helper)\n",
    "    return found[0]\n",
    "\n",
    "numbers = [4, 5, 2, 7, 3, 7]\n",
    "group = [5, 7]\n",
    "found = sort_priority(numbers, group)\n",
    "print(numbers)\n",
    "print(found)"
   ]
  },
  {
   "cell_type": "markdown",
   "metadata": {},
   "source": [
    "대신에 found 를 mutable 한 list로 바꿔서 해결할 수 있다."
   ]
  }
 ],
 "metadata": {
  "kernelspec": {
   "display_name": "Python 3",
   "language": "python",
   "name": "python3"
  },
  "language_info": {
   "codemirror_mode": {
    "name": "ipython",
    "version": 3
   },
   "file_extension": ".py",
   "mimetype": "text/x-python",
   "name": "python",
   "nbconvert_exporter": "python",
   "pygments_lexer": "ipython3",
   "version": "3.6.5"
  }
 },
 "nbformat": 4,
 "nbformat_minor": 2
}
